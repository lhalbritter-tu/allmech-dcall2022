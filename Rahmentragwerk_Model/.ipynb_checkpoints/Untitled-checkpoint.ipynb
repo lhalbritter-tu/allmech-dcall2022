{
 "cells": [
  {
   "cell_type": "code",
   "execution_count": 1,
   "id": "3387b841-b748-41ad-b388-68267e140028",
   "metadata": {},
   "outputs": [],
   "source": [
    "import sys\n",
    "sys.path.append('../')"
   ]
  },
  {
   "cell_type": "code",
   "execution_count": 2,
   "id": "77c4ca3a-f035-4ab2-b60d-9d9b12f54a4d",
   "metadata": {},
   "outputs": [],
   "source": [
    "from demo import *"
   ]
  },
  {
   "cell_type": "code",
   "execution_count": 3,
   "id": "64eae850-8d6e-44db-9f46-2d4a59c160cb",
   "metadata": {},
   "outputs": [],
   "source": [
    "model = SimpleModel(params=[ChangeableContainer([InputTable(\n",
    "    headers=['Freiheitsgrad $j$', 'EF $\\varPhi_{1,j}$ [-]', '$x_{j,max}$ [m]'],\n",
    "    filled_cells=[],\n",
    "    n_cols=3,\n",
    "    n_rows=3\n",
    ")])])"
   ]
  },
  {
   "cell_type": "code",
   "execution_count": 4,
   "id": "caa3caeb-fb89-41fa-970d-6d43e68fb831",
   "metadata": {},
   "outputs": [
    {
     "data": {
      "text/html": [
       "\n",
       "<style>\n",
       ".output-box {\n",
       "    background: #D0E4F5 none no-repeat scroll 22px 17px;\n",
       "    font-size: 18px;\n",
       "}\n",
       "\n",
       ".seperator {\n",
       "    border-bottom: 2px solid #000;\n",
       "}\n",
       "\n",
       ".heading {\n",
       "    // color: #e0eff2;\n",
       "    // background: #3a50d9;\n",
       "    font: italic bold Georgia, Serif;\n",
       "    color: #000000;\n",
       "    background:#ffffff;\n",
       "    text-align: left;\n",
       "    width: 100%;\n",
       "}\n",
       "\n",
       ".dropdown > select {\n",
       "    background-color:#d0e4f5;\n",
       "    margin-left:0px;\n",
       "    width: 100%;\n",
       "}\n",
       "</style>\n"
      ],
      "text/plain": [
       "<IPython.core.display.HTML object>"
      ]
     },
     "metadata": {},
     "output_type": "display_data"
    },
    {
     "data": {
      "text/html": [],
      "text/plain": [
       "<IPython.core.display.HTML object>"
      ]
     },
     "metadata": {},
     "output_type": "display_data"
    },
    {
     "data": {
      "application/vnd.jupyter.widget-view+json": {
       "model_id": "f645f6c363154351a764afe166f84692",
       "version_major": 2,
       "version_minor": 0
      },
      "text/plain": [
       "Output()"
      ]
     },
     "metadata": {},
     "output_type": "display_data"
    },
    {
     "data": {
      "application/vnd.jupyter.widget-view+json": {
       "model_id": "14f51504368940c1853b93eadc19201a",
       "version_major": 2,
       "version_minor": 0
      },
      "text/plain": [
       "HTML(value=\"<div class='seperator'></div> <br />\")"
      ]
     },
     "metadata": {},
     "output_type": "display_data"
    },
    {
     "data": {
      "application/vnd.jupyter.widget-view+json": {
       "model_id": "4ca371a1dbe2419f98601bd279efbfaa",
       "version_major": 2,
       "version_minor": 0
      },
      "text/plain": [
       "Output()"
      ]
     },
     "metadata": {},
     "output_type": "display_data"
    }
   ],
   "source": [
    "demo = Demo(model)\n",
    "demo.show()"
   ]
  },
  {
   "cell_type": "code",
   "execution_count": null,
   "id": "eee94996-860f-40ee-b8fb-d30142c7e9b4",
   "metadata": {},
   "outputs": [],
   "source": []
  }
 ],
 "metadata": {
  "kernelspec": {
   "display_name": "Python 3 (ipykernel)",
   "language": "python",
   "name": "python3"
  },
  "language_info": {
   "codemirror_mode": {
    "name": "ipython",
    "version": 3
   },
   "file_extension": ".py",
   "mimetype": "text/x-python",
   "name": "python",
   "nbconvert_exporter": "python",
   "pygments_lexer": "ipython3",
   "version": "3.10.5"
  }
 },
 "nbformat": 4,
 "nbformat_minor": 5
}
