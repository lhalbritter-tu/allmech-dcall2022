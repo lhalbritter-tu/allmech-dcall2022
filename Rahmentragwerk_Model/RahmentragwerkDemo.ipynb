{
 "cells": [
  {
   "cell_type": "markdown",
   "metadata": {
    "deleteable": false,
    "editable": false,
    "pycharm": {
     "name": "#%% md\n"
    },
    "tags": []
   },
   "source": [
    "# <center>Rahmentragwerk</center>\n",
    "---------------------------------------------------\n",
    "## Beispiel A\n",
    "**Gegeben:**\n",
    " - Rahmentragwerk mit drei starren Geschossdecken gemäß Skizze\n",
    " - Höhe der Geschosse $H$, Biegesteifigkeit aller Stützen $EI$ bzw. $2EI$ im 1. Geschoss\n",
    " - Masse der Geschosse $m_1$, $m_2$, $m_3$\n",
    " - Dämpfung aller Geschosse mit Dämpfungskonstanten $c_1$, $c_2$, $c_3$\n",
    " - Anfangsverschiebung $x_0$ sowie Anfangsgeschwindigkeit $v_0$\n",
    " - MATLAB-Skript für ein Rahmentragwerk mit zwei Geschossen"
   ]
  },
  {
   "cell_type": "markdown",
   "metadata": {
    "deleteable": false,
    "editable": false,
    "pycharm": {
     "name": "#%% md\n"
    },
    "tags": []
   },
   "source": [
    "<center>\n",
    "    <img src=\"resources/rahmentragwerk.png\" alt=\"Rahmentragwerk mit 3 Geschossen Skizze\">\n",
    "</center>"
   ]
  },
  {
   "cell_type": "markdown",
   "metadata": {
    "pycharm": {
     "name": "#%% md\n"
    }
   },
   "source": [
    "**Gesucht:**\n",
    "1) Überarbeitung des zur Verfügung gestellten Skripts: Das zwei-geschossige Rahmentragwerk soll auf ein drei-geschossiges Rahmentragwerk erweitert werden. Für die Masse des zusätzlichen Geschosses $m_3$ gilt: $m_3 = \\frac{m_2}{2}$\n",
    "2) Normierte Werte der 1. Eigenform $\\varPhi_{1,j}$\n",
    "3) Maximale (Absolut-)Werte der Verschiebungen $x_{j,max}$\n",
    "\n",
    "| Freiheitsgrad $j$ | EF $\\varPhi$<sub>1,j</sub> \\[-\\] | x<sub>j,max</sub> \\[m\\] |\n",
    "|-------------------------------|-------------------------------------------------|------------------------------|\n",
    "| 1                             |                                             |                          |\n",
    "| 2                             |                                             |                          |\n",
    "| 3                             | 1,00                                            |                          |\n",
    "\n",
    "*Hinweis:* Äquivalente Federsteifigkeit einer Einzelstütze $k_G = 3 \\cdot \\frac{EI}{H^3}$ bei gelenkig-eingespannter Lagerung bzw. $k_E = 12 \\cdot \\frac{EI}{H^3}$ bei beidseitig eingespannter Lagerung."
   ]
  },
  {
   "cell_type": "code",
   "execution_count": 1,
   "metadata": {
    "collapsed": false,
    "deletable": false,
    "editable": false,
    "jupyter": {
     "outputs_hidden": false
    },
    "pycharm": {
     "name": "#%%\n"
    },
    "tags": []
   },
   "outputs": [
    {
     "name": "stdout",
     "output_type": "stream",
     "text": [
      "\n"
     ]
    }
   ],
   "source": [
    "% Skript zur dynamischen Berechnung eines Rahmens mit bis zu drei\n",
    "% Geschossen infolge Anfangsverschiebungen und/oder -geschwindigkeiten\n",
    "%\n",
    "% Version v1.0, 25.04.2023\n",
    "% E212-03, FoB Baumechanik und Baudynamik\n",
    "% Grundlage ist das Script 'ML_29_1' aus:\n",
    "% C. Petersen, H. Werkle, Dynamik der Baukonstruktionen\n",
    "% 2. Auflage, Springer Vieweg, Wiesbaden, 2018\n",
    "% \n",
    "% Ausgabe:\n",
    "%   - Eigenfrequenzen und -formen inkl. vereinfachter Darstellung\n",
    "%   - Verschiebung, Geschwindigkeit und Beschleunigung an den\n",
    "%     Geschossdecken (numerische Integration mit Newmark-Verfahren)\n",
    "%\n",
    "% Hinweise:\n",
    "%   - Höhe und Biegesteifigkeit aller Einzelstützen sind gleich\n",
    "%   - Als Lagerungsart der Stützen kann zwischen gelenkig-eingespannt und\n",
    "%     eingespannt-eingespannt gewählt werden\n",
    "%   - Dämpfung ist in jedem Geschoss vorhanden (ANNAHME: modale Dämpfung)\n",
    "%\n",
    "clear; clc; close;"
   ]
  },
  {
   "cell_type": "code",
   "execution_count": 2,
   "metadata": {
    "collapsed": false,
    "deletable": false,
    "editable": false,
    "jupyter": {
     "outputs_hidden": false
    },
    "pycharm": {
     "name": "#%%\n"
    },
    "tags": []
   },
   "outputs": [
    {
     "name": "stdout",
     "output_type": "stream",
     "text": [
      "\n"
     ]
    }
   ],
   "source": [
    "% User Information wird abgefragt, um Eingabewerte zu berechnen\n",
    "user = getenv('JUPYTERHUB_USER');\n",
    "if (size(user) <= 0)\n",
    "    user = '42';\n",
    "else\n",
    "    user = user(0);\n",
    "end\n",
    "\n",
    "rng(mean(double(user)))"
   ]
  },
  {
   "cell_type": "code",
   "execution_count": 3,
   "metadata": {
    "collapsed": false,
    "jupyter": {
     "outputs_hidden": false
    },
    "pycharm": {
     "name": "#%%\n"
    }
   },
   "outputs": [
    {
     "name": "stdout",
     "output_type": "stream",
     "text": [
      "\n"
     ]
    }
   ],
   "source": [
    "% ---------------------------- EINGABEBLOCK ------------------------------\n",
    "% RAHMEN\n",
    "% Masse je Geschoss in [kg]\n",
    "m1 = randi([10000, 20000]);         % 1. Geschoss\n",
    "m2 = randi([10000, 20000]);         % 2. Geschoss\n",
    "\n",
    "% Massenmatrix \n",
    "M = [m1 0;\n",
    "     0 m2];\n",
    "\n",
    "% Sttzen\n",
    "H = 5;              % Hhe [m]\n",
    "EI = 5*10^6;        % Biegesteifigkeit [Nm^2]\n",
    "                       \n",
    "% quivalente Federsteifigkeit einer Einzelsttze in [N/m]\n",
    "kG = 3*EI/H^3;      % Lagerung: gelenkig-eigespannt \n",
    "kE = 12*EI/H^3;     % Lagerung: eingespannt-eingespannt\n",
    "\n",
    "% quivalente Federsteifigkeit je Geschoss\n",
    "k1 = 4*kG;          % 1. Geschoss\n",
    "k2 = 2*kE;          % 2. Geschoss   \n",
    "\n",
    "% Steifigkeitsmatrix\n",
    "K = [k1+k2  -k2;\n",
    "      -k2    k2];\n",
    "\n",
    "% Dmpfung je Geschoss in [Ns/m]\n",
    "zeta = 0.03;        % Lehr'sches Dmpfungsma [-]\n",
    "\n",
    "c1 = 2*zeta*sqrt(m1*k1);\n",
    "c2 = 2*zeta*sqrt(m2*k2);\n",
    "\n",
    "% Dmpfungsmatrix \n",
    "C = [c1+c2  -c2;\n",
    "      -c2    c2];\n",
    "\n",
    "% ANFANGSWERTE\n",
    "x_0 = [0.1 0];     % Anfangsverschiebungen [m]\n",
    "v_0 = [0 0];       % Anfangsgeschwindigkeiten [m/s] \n",
    "\n",
    "% ZEIT\n",
    "t_ber = 30;          % Berechnungszeit [s]\n",
    "dt = 0.005;          % Berechnungszeitschritt [s]"
   ]
  },
  {
   "cell_type": "code",
   "execution_count": 4,
   "metadata": {
    "collapsed": false,
    "jupyter": {
     "outputs_hidden": false
    },
    "pycharm": {
     "name": "#%%\n"
    }
   },
   "outputs": [
    {
     "name": "stdout",
     "output_type": "stream",
     "text": [
      "\n"
     ]
    }
   ],
   "source": [
    "% -------------------------- BERECHNUNGSBLOCK ----------------------------\n",
    "% Lösung Eigenwertproblem\n",
    "[EF,EW] = eig(K,M); % A-Eigenformmatrix, EW-Eigenwertmatrix\n",
    "\n",
    "% Definition eines Vektors für die ermittelten Eigenwerte\n",
    "D_EW = diag(EW);\n",
    "\n",
    "% Ermittlung der Eigenkreisfrequenzen\n",
    "Omega = sqrt(D_EW);\n",
    "\n",
    "% Sortierung der Eigenwerte in aufsteigender Reihenfolge\n",
    "[Omega,index] = sortrows(Omega);\n",
    "EF = EF(:,index);\n",
    "\n",
    "% Ermittlung der Eigenfrequenzen\n",
    "Freq = Omega/(2*pi);\n",
    "\n",
    "% Ermittlung der Eigenschwingzeiten\n",
    "T = 1./Freq;\n",
    "\n",
    "% Anzahl der Berechnungszeitschritte\n",
    "nt = ceil(t_ber/dt)+1;\n",
    "t_int = 0:dt:dt*(nt-1);"
   ]
  },
  {
   "cell_type": "code",
   "execution_count": 5,
   "metadata": {
    "collapsed": false,
    "jupyter": {
     "outputs_hidden": false
    },
    "pycharm": {
     "name": "#%%\n"
    }
   },
   "outputs": [
    {
     "name": "stdout",
     "output_type": "stream",
     "text": [
      "\n"
     ]
    }
   ],
   "source": [
    "% Normierung der Eigenvektoren auf das betragsgrößte Element\n",
    "n = size(K,1); % Matrixdimension\n",
    "for j = 1:1:n\n",
    "    if max(EF(:,j))>abs(min(EF(:,j)))\n",
    "       z1 = max(EF(:,j));\n",
    "       for i = 1:1:n\n",
    "         EF(i,j) = (EF(i,j)/z1);\n",
    "       end\n",
    "    else\n",
    "       z1 = min(EF(:,j));\n",
    "       for i = 1:1:n\n",
    "         EF(i,j) = (EF(i,j)/z1);\n",
    "       end\n",
    "    end\n",
    "end"
   ]
  },
  {
   "cell_type": "code",
   "execution_count": 6,
   "metadata": {
    "collapsed": false,
    "jupyter": {
     "outputs_hidden": false
    },
    "pycharm": {
     "name": "#%%\n"
    }
   },
   "outputs": [
    {
     "name": "stdout",
     "output_type": "stream",
     "text": [
      "\n"
     ]
    }
   ],
   "source": [
    "% Definition der Ergebnisvektoren\n",
    "x = zeros(n,nt);  % Verschiebungsmatrix\n",
    "v = zeros(n,nt);  % Geschwindigkeitsmatrix\n",
    "a = zeros(n,nt);  % Beschleunigungsmatrix\n",
    "\n",
    "% Berücksichtigung der Anfangsbedingungen\n",
    "for i = 1:1:n\n",
    "    x(i,1) = x_0(i);\n",
    "    v(i,1) = v_0(i);\n",
    "end\n",
    "\n",
    "count_m0 = 0;  % Zähler der Nulleinträge auf der Diagonale der Massenmatrix\n",
    "for ii = 1:1:size(M,1)    \n",
    "    if M(ii,ii) == 0\n",
    "        count_m0 = count_m0+1;\n",
    "    end\n",
    "end\n",
    "if count_m0 == 0\n",
    "    a(:,1) = (-M^-1)*(C*v(:,1)+K*x(:,1));\n",
    "else\n",
    "    a(:,1) = -pinv(M)*(C*v(:,1)+K*x(:,1));\n",
    "end"
   ]
  },
  {
   "cell_type": "code",
   "execution_count": 7,
   "metadata": {
    "collapsed": false,
    "jupyter": {
     "outputs_hidden": false
    },
    "pycharm": {
     "name": "#%%\n"
    }
   },
   "outputs": [
    {
     "name": "stdout",
     "output_type": "stream",
     "text": [
      "\n"
     ]
    }
   ],
   "source": [
    "% Integrationsparameter für das Newmark-Verfahren\n",
    "alpha = 0.5;\n",
    "beta = 0.25;\n",
    "\n",
    "% Berechnung der Schwingreaktion mittels Newmark-Verfahren\n",
    "for i = 2:1:nt\n",
    "    a_h = ((1/beta)*M)+(alpha/beta)*C*dt+K*dt^2;\n",
    "    b_h = ((1/beta)*M+(alpha/beta)*C*dt)*x(:,i-1)+((1/beta)*M+...\n",
    "        (alpha/beta-1)*C*dt)*dt*v(:,i-1)+((1/(2*beta)-1)*M+...\n",
    "        (alpha/(2*beta)-1)*C*dt)*dt^2*a(:,i-1);\n",
    "    x(:,i) = a_h^-1*b_h;\n",
    "    v(:,i) = (alpha/(beta*dt))*(x(:,i)-x(:,i-1))-((alpha/beta)-1)*...\n",
    "        v(:,i-1)-(alpha/(2*beta)-1)*dt*a(:,i-1);\n",
    "    a(:,i) = (1/(beta*dt^2))*(x(:,i)-x(:,i-1))-1/(beta*dt)*v(:,i-1)-...\n",
    "        (1/(2*beta)-1)*a(:,i-1);\n",
    "end"
   ]
  },
  {
   "cell_type": "code",
   "execution_count": 8,
   "metadata": {
    "collapsed": false,
    "jupyter": {
     "outputs_hidden": false
    },
    "pycharm": {
     "name": "#%%\n"
    }
   },
   "outputs": [
    {
     "name": "stdout",
     "output_type": "stream",
     "text": [
      "Normierte Werte der 1. EF:\n",
      "EF1,1 = 0.82267\n",
      "EF1,2 = 1\n",
      "Max. (Absolut-)Werte der Verschiebungen:\n",
      "x1 = 0.1 m\n",
      "x2 = 0.09 m\n",
      "\n"
     ]
    }
   ],
   "source": [
    "% Ausgabe der normierten Werte der 1. Eigenform\n",
    "disp('Normierte Werte der 1. EF:')\n",
    "disp(append('EF1,1 = ',num2str(EF(1,1))))\n",
    "switch n\n",
    "case 3\n",
    "disp(append('EF1,2 = ',num2str(EF(2,1))))\n",
    "disp(append('EF1,3 = ',num2str(EF(3,1))))\n",
    "case 2\n",
    "disp(append('EF1,2 = ',num2str(EF(2,1))))\n",
    "end\n",
    "\n",
    "% Ausgabe der max. (Absolut-)Werte der Verschiebung je Geschoss\n",
    "disp('Max. (Absolut-)Werte der Verschiebungen:')\n",
    "disp(append('x1 = ',num2str(round(max(abs(x(1,:))),2)),' m'))\n",
    "switch n\n",
    "case 3\n",
    "disp(append('x2 = ',num2str(round(max(abs(x(2,:))),2)),' m'))\n",
    "disp(append('x3 = ',num2str(round(max(abs(x(3,:))),2)),' m'))\n",
    "case 2\n",
    "disp(append('x2 = ',num2str(round(max(abs(x(2,:))),2)),' m'))\n",
    "end"
   ]
  },
  {
   "cell_type": "code",
   "execution_count": 9,
   "metadata": {
    "collapsed": false,
    "jupyter": {
     "outputs_hidden": false
    },
    "pycharm": {
     "name": "#%%\n"
    }
   },
   "outputs": [
    {
     "name": "stdout",
     "output_type": "stream",
     "text": [
      "\n"
     ]
    },
    {
     "data": {
      "image/png": "[encoded data removed]",
      "text/plain": [
       "<IPython.core.display.Image object>"
      ]
     },
     "metadata": {},
     "output_type": "display_data"
    }
   ],
   "source": [
    "% ------------------------- DARSTELLUNGSBLOCK ----------------------------\n",
    "% Grafische Darstellung der Ergebnisse\n",
    "name_fig1 = 'Eigenformen';\n",
    "fig1 = figure('Name',name_fig1,'NumberTitle','off'); \n",
    "set(fig1,'Position',[200 500 1000 500]);\n",
    "tl_EF = tiledlayout(1,n);\n",
    "tl_EF.TileSpacing = 'compact'; tl_EF.Padding = 'loose';\n",
    "\n",
    "% Koordinaten\n",
    "X = [0 5];\n",
    "switch n\n",
    "case 3\n",
    "    Y = [0 H 2*H 3*H];\n",
    "case 2\n",
    "    Y = [0 H 2*H];\n",
    "case 1\n",
    "    Y = [0 H];\n",
    "end\n",
    "\n",
    "for j = 1:1:n\n",
    "nexttile\n",
    "\n",
    "% DARSTELLUNG RAHMEN\n",
    "% Stützen 1. Geschoss\n",
    "line([X(1) X(1)],[Y(1) Y(2)],'linewidth',2)\n",
    "line([X(2) X(2)],[Y(1) Y(2)],'linewidth',2)\n",
    "\n",
    "% Geschossdecke 1. Geschoss\n",
    "line([X(1) X(2)],[Y(2) Y(2)],'linewidth',10)\n",
    "\n",
    "switch n\n",
    "case 3\n",
    "    % Stützen 2. Geschoss\n",
    "    line([X(1) X(1)],[Y(2) Y(3)],'linewidth',2)\n",
    "    line([X(2) X(2)],[Y(2) Y(3)],'linewidth',2)\n",
    "    % Stützen 3. Geschoss\n",
    "    line([X(1) X(1)],[Y(3) Y(4)],'linewidth',2)\n",
    "    line([X(2) X(2)],[Y(3) Y(4)],'linewidth',2)\n",
    "    \n",
    "    % Geschossdecke 2. Geschoss\n",
    "    line([X(1) X(2)],[Y(3) Y(3)],'linewidth',10)\n",
    "    % Geschossdecke 3. Geschoss\n",
    "    line([X(1) X(2)],[Y(4) Y(4)],'linewidth',10)\n",
    "case 2\n",
    "    % Stützen 2. Geschoss\n",
    "    line([X(1) X(1)],[Y(2) Y(3)],'linewidth',2)\n",
    "    line([X(2) X(2)],[Y(2) Y(3)],'linewidth',2)\n",
    "    \n",
    "    % Geschossdecke 2. Geschoss\n",
    "    line([X(1) X(2)],[Y(3) Y(3)],'linewidth',10)\n",
    "end\n",
    "% DARSTELLUNG EIGENFORMEN\n",
    "% Stützen 1. Geschoss\n",
    "line([X(1) X(1)+EF(1,j)],[Y(1) Y(2)],'linewidth',2,'color','#D95319')\n",
    "line([X(2) X(2)+EF(1,j)],[Y(1) Y(2)],'linewidth',2,'color','#D95319')\n",
    "\n",
    "% Geschossdecke 1. Geschoss\n",
    "line([X(1)+EF(1,j) X(2)+EF(1,j)],[Y(2) Y(2)],'linewidth',2,'color','#D95319')\n",
    "\n",
    "switch n\n",
    "case 3\n",
    "% Stützen 2. Geschoss    \n",
    "line([X(1)+EF(1,j) X(1)+EF(2,j)],[Y(2) Y(3)],'linewidth',2,'color','#D95319')\n",
    "line([X(2)+EF(1,j) X(2)+EF(2,j)],[Y(2) Y(3)],'linewidth',2,'color','#D95319')\n",
    "% Stützen 3. Geschoss\n",
    "line([X(1)+EF(2,j) X(1)+EF(3,j)],[Y(3) Y(4)],'linewidth',2,'color','#D95319')\n",
    "line([X(2)+EF(2,j) X(2)+EF(3,j)],[Y(3) Y(4)],'linewidth',2,'color','#D95319')\n",
    "\n",
    "% Geschossdecke 2. Geschoss\n",
    "line([X(1)+EF(2,j) X(2)+EF(2,j)],[Y(3) Y(3)],'linewidth',2,'color','#D95319')\n",
    "% Geschossdecke 3. Geschoss\n",
    "line([X(1)+EF(3,j) X(2)+EF(3,j)],[Y(4) Y(4)],'linewidth',2,'color','#D95319')\n",
    "\n",
    "case 2\n",
    "% Stützen 2. Geschoss \n",
    "line([X(1)+EF(1,j) X(1)+EF(2,j)],[Y(2) Y(3)],'linewidth',2,'color','#D95319')\n",
    "line([X(2)+EF(1,j) X(2)+EF(2,j)],[Y(2) Y(3)],'linewidth',2,'color','#D95319')\n",
    "\n",
    "% Geschossdecke 2. Geschoss\n",
    "line([X(1)+EF(2,j) X(2)+EF(2,j)],[Y(3) Y(3)],'linewidth',2,'color','#D95319')\n",
    "end\n",
    "\n",
    "xlim([X(1)-2 X(2)+2]); ylim([0 Y(end)+1])\n",
    "title(append(num2str(j),'. EF - \\omega_',num2str(j),' = ',...\n",
    "      num2str(round(Omega(j),2)),' rad/s'))\n",
    "axis equal\n",
    "end"
   ]
  },
  {
   "cell_type": "code",
   "execution_count": 10,
   "metadata": {
    "collapsed": false,
    "jupyter": {
     "outputs_hidden": false
    },
    "pycharm": {
     "name": "#%%\n"
    },
    "tags": []
   },
   "outputs": [
    {
     "name": "stdout",
     "output_type": "stream",
     "text": [
      "\n"
     ]
    },
    {
     "data": {
      "image/png": "[encoded data removed]",
      "text/plain": [
       "<IPython.core.display.Image object>"
      ]
     },
     "metadata": {},
     "output_type": "display_data"
    }
   ],
   "source": [
    "name_fig2 = 'Schwingungsantworten';\n",
    "fig2 = figure('Name',name_fig2,'NumberTitle','off'); \n",
    "set(fig2,'Position',[1300 300 1100 700]);\n",
    "\n",
    "tl_SA = tiledlayout(3,n);\n",
    "tl_SA.TileSpacing = 'compact'; tl_SA.Padding = 'loose';\n",
    "\n",
    "for j = 1:1:n\n",
    "nexttile\n",
    "plot(t_int,x(j,:),'MarkerSize',3,'LineWidth',1)\n",
    "title(append(num2str(j),'. Geschoss'))\n",
    "xlabel('Zeit [s]')\n",
    "ylabel('Verschiebung [m]')\n",
    "ylim([-(max(abs(x),[],'all')*1.1) max(abs(x),[],'all')*1.1])\n",
    "grid on\n",
    "end\n",
    "\n",
    "for j = 1:1:n\n",
    "nexttile\n",
    "plot(t_int,v(j,:),'MarkerSize',3,'LineWidth',1)\n",
    "xlabel('Zeit [s]')\n",
    "ylabel('Geschwindigkeit [m/s]')\n",
    "ylim([-(max(abs(v),[],'all')*1.1) max(abs(v),[],'all')*1.1])\n",
    "grid on\n",
    "end\n",
    "\n",
    "for j = 1:1:n\n",
    "nexttile\n",
    "plot(t_int,a(j,:),'MarkerSize',3,'LineWidth',1)\n",
    "xlabel('Zeit [s]')\n",
    "ylabel('Beschleunigung [m/s^2]')\n",
    "ylim([-(max(abs(a),[],'all')*1.1) max(abs(a),[],'all')*1.1])\n",
    "grid on\n",
    "end"
   ]
  }
 ],
 "metadata": {
  "kernelspec": {
   "display_name": "Matlab",
   "language": "matlab",
   "name": "matlab"
  },
  "language_info": {
   "codemirror_mode": "octave",
   "file_extension": ".m",
   "help_links": [
    {
     "text": "MetaKernel Magics",
     "url": "https://metakernel.readthedocs.io/en/latest/source/README.html"
    }
   ],
   "mimetype": "text/x-octave",
   "name": "matlab",
   "version": "0.17.1"
  }
 },
 "nbformat": 4,
 "nbformat_minor": 4
}